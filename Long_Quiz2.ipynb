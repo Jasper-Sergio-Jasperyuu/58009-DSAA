{
  "nbformat": 4,
  "nbformat_minor": 0,
  "metadata": {
    "colab": {
      "provenance": [],
      "authorship_tag": "ABX9TyPn4vnQJpL8HIDdnt+kF8np",
      "include_colab_link": true
    },
    "kernelspec": {
      "name": "python3",
      "display_name": "Python 3"
    },
    "language_info": {
      "name": "python"
    }
  },
  "cells": [
    {
      "cell_type": "markdown",
      "metadata": {
        "id": "view-in-github",
        "colab_type": "text"
      },
      "source": [
        "<a href=\"https://colab.research.google.com/github/Jasper-Sergio-Jasperyuu/58009-DSAA/blob/main/Long_Quiz2.ipynb\" target=\"_parent\"><img src=\"https://colab.research.google.com/assets/colab-badge.svg\" alt=\"Open In Colab\"/></a>"
      ]
    },
    {
      "cell_type": "code",
      "execution_count": 11,
      "metadata": {
        "colab": {
          "base_uri": "https://localhost:8080/"
        },
        "id": "mekHcgPPwViS",
        "outputId": "b61800ed-279e-4786-c09f-ff3d8ca5461c"
      },
      "outputs": [
        {
          "output_type": "stream",
          "name": "stdout",
          "text": [
            "Vertices: \n",
            " ['E', 'F', 'H', 'I', 'J', 'K', 'M', 'P'] \n",
            " Edges: \n",
            " [{'E', 'I'}, {'E', 'J'}, {'E', 'K'}, {'E', 'M'}, {'F', 'I'}, {'F', 'J'}, {'F', 'K'}, {'F', 'P'}, {'I', 'H'}, {'J', 'H'}, {'K', 'H'}]\n"
          ]
        }
      ],
      "source": [
        "class Graph:\n",
        "   def findVertices(self):\n",
        "    return list(self.gd.keys())\n",
        "\n",
        "   def __init__(self,gd=None):\n",
        "      if gd is None:\n",
        "         gd = {}\n",
        "      self.gd = gd\n",
        "\n",
        "   def edge(self):\n",
        "      return self.findedges()\n",
        "\n",
        "   def findedges(self):\n",
        "      en = []\n",
        "      for vrtx in self.gd:\n",
        "         for nxtvrtx in self.gd[vrtx]:\n",
        "            if {nxtvrtx, vrtx} not in en:\n",
        "               en.append({vrtx, nxtvrtx})\n",
        "      return en\n",
        "\n",
        "\n",
        "g28_elements = {\n",
        "   \"E\" : [\"I\", \"J\", \"K\", 'M'],\n",
        "   \"F\" : [\"I\", \"J\", \"K\", 'P'],\n",
        "   \"H\" : [\"I\", \"J\", \"K\"],\n",
        "   \"I\" : [\"E\", \"F\", 'H'],\n",
        "   \"J\" : [\"E\", \"F\", \"H\"],\n",
        "   \"K\" : [\"E\", \"F\", \"H\"],\n",
        "   \"M\" : [\"E\",],\n",
        "   \"P\" : [\"F\"],\n",
        "\n",
        "}\n",
        "g = Graph(g28_elements)\n",
        "print(\"Vertices: \\n\", g.findVertices(), \"\\n\", \"Edges: \\n\", g.edge())"
      ]
    }
  ]
}