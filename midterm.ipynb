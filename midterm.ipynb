{
  "nbformat": 4,
  "nbformat_minor": 0,
  "metadata": {
    "colab": {
      "provenance": [],
      "authorship_tag": "ABX9TyOcZ1r6yIiRCUkBVD9D5033",
      "include_colab_link": true
    },
    "kernelspec": {
      "name": "python3",
      "display_name": "Python 3"
    },
    "language_info": {
      "name": "python"
    }
  },
  "cells": [
    {
      "cell_type": "markdown",
      "metadata": {
        "id": "view-in-github",
        "colab_type": "text"
      },
      "source": [
        "<a href=\"https://colab.research.google.com/github/Jasper-Sergio-Jasperyuu/58009-DSAA/blob/main/midterm.ipynb\" target=\"_parent\"><img src=\"https://colab.research.google.com/assets/colab-badge.svg\" alt=\"Open In Colab\"/></a>"
      ]
    },
    {
      "cell_type": "code",
      "execution_count": 29,
      "metadata": {
        "colab": {
          "base_uri": "https://localhost:8080/"
        },
        "id": "3mKXjT4kH8Cv",
        "outputId": "918c1a41-8482-4dbe-dd0d-4e059ea7c90e"
      },
      "outputs": [
        {
          "output_type": "stream",
          "name": "stdout",
          "text": [
            "Edges of Graph G29: \n",
            " [{'B', 'A'}, {'B', 'C'}, {'B', 'E'}, {'B', 'F'}, {'D', 'C'}, {'C', 'E'}, {'F', 'C'}, {'C', 'I'}, {'C', 'M'}, {'L', 'D'}, {'K', 'D'}, {'N', 'E'}, {'G', 'F'}, {'F', 'I'}, {'G', 'I'}, {'G', 'J'}, {'I', 'J'}, {'K', 'I'}, {'K', 'J'}, {'L', 'M'}, {'L', 'P'}, {'P', 'M'}, {'N', 'M'}, {'N', 'O'}, {'O', 'M'}, {'O', 'P'}]  \n",
            "\n",
            "Vertices of Graph G29:\n"
          ]
        },
        {
          "output_type": "execute_result",
          "data": {
            "text/plain": [
              "['A', 'B', 'C', 'D', 'E', 'F', 'G', 'I', 'J', 'K', 'L', 'M', 'N', 'O', 'P']"
            ]
          },
          "metadata": {},
          "execution_count": 29
        }
      ],
      "source": [
        "class Graph:\n",
        "   def __init__(self,gd=None):\n",
        "      if gd is None:\n",
        "         gd = {}\n",
        "      self.gd = gd\n",
        "\n",
        "   def edges(self):\n",
        "      edgearr = []\n",
        "      for vtx in self.gd:\n",
        "         for next in self.gd[vtx]:\n",
        "            if {next, vtx} not in edgearr:\n",
        "               edgearr.append({vtx, next})\n",
        "      return edgearr\n",
        "   def printe(self):\n",
        "      return self.edges()\n",
        "\n",
        "\n",
        "   def vertices(self):\n",
        "    return list(self.gd.keys())\n",
        "\n",
        "lista = { 'A': ['B'], 'B': ['A', 'C', 'E', 'F'], 'C':['B', 'D', 'E', 'F', 'I', 'M'],\n",
        "          'D': ['C', 'L', 'K'], 'E': ['B','C','N'], 'F': ['B','C','G','I'], 'G': ['F', 'I', 'J'],\n",
        "          'I': ['C','G','J','K'], 'J': ['G', 'I', 'K'], 'K': ['D', 'I', 'J'],\n",
        "          'L': ['D', 'M', 'P'], 'M': ['C','L','P', 'N'], 'N': ['E', 'M', 'O'],\n",
        "          'O': ['N', 'M', 'P'], 'P': ['L', 'M', 'O']\n",
        "          }\n",
        "\n",
        "exam = Graph(lista)\n",
        "\n",
        "print('Edges of Graph G29: \\n', exam.printe(), ' \\n\\nVertices of Graph G29:')\n",
        "exam.vertices()"
      ]
    }
  ]
}