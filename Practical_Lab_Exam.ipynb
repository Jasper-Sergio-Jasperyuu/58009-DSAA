{
  "nbformat": 4,
  "nbformat_minor": 0,
  "metadata": {
    "colab": {
      "provenance": [],
      "authorship_tag": "ABX9TyOcxKlNeVJtOJWVYiFIHNYS",
      "include_colab_link": true
    },
    "kernelspec": {
      "name": "python3",
      "display_name": "Python 3"
    },
    "language_info": {
      "name": "python"
    }
  },
  "cells": [
    {
      "cell_type": "markdown",
      "metadata": {
        "id": "view-in-github",
        "colab_type": "text"
      },
      "source": [
        "<a href=\"https://colab.research.google.com/github/Jasper-Sergio-Jasperyuu/58009-DSAA/blob/main/Practical_Lab_Exam.ipynb\" target=\"_parent\"><img src=\"https://colab.research.google.com/assets/colab-badge.svg\" alt=\"Open In Colab\"/></a>"
      ]
    },
    {
      "cell_type": "code",
      "execution_count": 7,
      "metadata": {
        "colab": {
          "base_uri": "https://localhost:8080/"
        },
        "id": "ZM2pzoUmYXxC",
        "outputId": "51b79f24-beb0-43fa-af04-163fae7624ed"
      },
      "outputs": [
        {
          "output_type": "stream",
          "name": "stdout",
          "text": [
            "Your scores are: [26, 49, 98, 87, 62, 75]\n",
            "Your odd scores are: [49, 87, 75]\n",
            "The sum of the odd test scores are 211\n"
          ]
        }
      ],
      "source": [
        "scores = [26, 49, 98, 87, 62, 75]\n",
        "print(f\"Your scores are: {scores}\")\n",
        "odd = []\n",
        "c = 0\n",
        "for x in scores:\n",
        "  if x % 2 != 0:\n",
        "    odd.append(x)\n",
        "print(f\"Your odd scores are: {odd}\")\n",
        "for x in odd:\n",
        "  c += x\n",
        "\n",
        "print(f\"The sum of the odd test scores are {c}\")"
      ]
    }
  ]
}