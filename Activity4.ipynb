{
  "nbformat": 4,
  "nbformat_minor": 0,
  "metadata": {
    "colab": {
      "provenance": [],
      "authorship_tag": "ABX9TyPB1gy/znD7EEedF4aUI2ry",
      "include_colab_link": true
    },
    "kernelspec": {
      "name": "python3",
      "display_name": "Python 3"
    },
    "language_info": {
      "name": "python"
    }
  },
  "cells": [
    {
      "cell_type": "markdown",
      "metadata": {
        "id": "view-in-github",
        "colab_type": "text"
      },
      "source": [
        "<a href=\"https://colab.research.google.com/github/Jasper-Sergio-Jasperyuu/58009-DSAA/blob/main/Activity4.ipynb\" target=\"_parent\"><img src=\"https://colab.research.google.com/assets/colab-badge.svg\" alt=\"Open In Colab\"/></a>"
      ]
    },
    {
      "cell_type": "markdown",
      "source": [
        "ACTIVITY 4\n"
      ],
      "metadata": {
        "id": "282jKilJsvgR"
      }
    },
    {
      "cell_type": "code",
      "source": [
        "#Creating an order system using queues\n",
        "q = []\n",
        "class Queue:\n",
        "  def __init__(self):\n",
        "    self.queue = []\n",
        "  def enq(self, data):\n",
        "    self.data = data\n",
        "    if data not in self.queue:\n",
        "      self.queue.append(data)\n",
        "      True\n",
        "    else:\n",
        "      False\n",
        "  def deq(self):\n",
        "    if len(self.queue) <= 0:\n",
        "      return (\"No items left in queue, Thank You!\")\n",
        "    else:\n",
        "      return self.queue.pop(0)\n",
        "  def rem(self, data):\n",
        "    if len(self.queue) <= 0:\n",
        "      return (\"No element left in queue\")\n",
        "    else:\n",
        "      self.queue.remove(data)\n",
        "  def printq(self):\n",
        "    print(self.queue)\n",
        "\n",
        "use = Queue()\n",
        "print('Welcome User! Please input your order among the choices:', '\\n Cookies, Krinkles, Almond Cupcakes', '\\n If you have no orders, please type none:')\n",
        "a = str(input())\n",
        "order = 1\n",
        "none = \"None\"\n",
        "Na = \"none\"\n",
        "if a.lower() == none:\n",
        "  print('Thank you for choosing JNJ Delights!')\n",
        "else:\n",
        "  use.enq(a)\n",
        "while True:\n",
        "  a = str(input(\"Anything else? \\n If you want to remove a part of the list, please input 'Remove' \\nIf you want to stop, please input 'None': \"))\n",
        "  if a.lower() == none or a.lower() == Na:\n",
        "   print('Thank you for choosing JNJ Delights!')\n",
        "   break\n",
        "  elif a == 'Remove' or a.lower() == 'remove':\n",
        "    b = str(input('Please input what item you would like to remove:'))\n",
        "    use.rem(b)\n",
        "  else:\n",
        "    use.enq(a)\n",
        "    order += 1\n",
        "print('Here is your order:')\n",
        "for i in range(order):\n",
        "  item = use.deq()\n",
        "  print(f'{i+ 1}. {item}')"
      ],
      "metadata": {
        "colab": {
          "base_uri": "https://localhost:8080/"
        },
        "id": "ikqZ35DuqCKT",
        "outputId": "853d11c4-5a91-4c37-e677-b926cc8de5c5"
      },
      "execution_count": 43,
      "outputs": [
        {
          "output_type": "stream",
          "name": "stdout",
          "text": [
            "Welcome User! Please input your order among the choices: \n",
            " Cookies, Krinkles, Almond Cupcakes \n",
            " If you have no orders, please type none:\n",
            "coookies\n",
            "Anything else? \n",
            " If you want to remove a part of the list, please input 'Remove' \n",
            "If you want to stop, please input 'None': coookies\n",
            "Anything else? \n",
            " If you want to remove a part of the list, please input 'Remove' \n",
            "If you want to stop, please input 'None': cookies\n",
            "Anything else? \n",
            " If you want to remove a part of the list, please input 'Remove' \n",
            "If you want to stop, please input 'None': krinkles\n",
            "Anything else? \n",
            " If you want to remove a part of the list, please input 'Remove' \n",
            "If you want to stop, please input 'None': almond cookies\n",
            "Anything else? \n",
            " If you want to remove a part of the list, please input 'Remove' \n",
            "If you want to stop, please input 'None': remove\n",
            "Please input what item you would like to remove:coookies\n",
            "Anything else? \n",
            " If you want to remove a part of the list, please input 'Remove' \n",
            "If you want to stop, please input 'None': none\n",
            "Thank you for choosing JNJ Delights!\n",
            "Here is your order:\n",
            "1. cookies\n",
            "2. krinkles\n",
            "3. almond cookies\n",
            "4. No items left in queue, Thank You!\n"
          ]
        }
      ]
    }
  ]
}