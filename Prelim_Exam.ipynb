{
  "nbformat": 4,
  "nbformat_minor": 0,
  "metadata": {
    "colab": {
      "provenance": [],
      "authorship_tag": "ABX9TyM3rdf0CQvgCcBJuMfXT67B",
      "include_colab_link": true
    },
    "kernelspec": {
      "name": "python3",
      "display_name": "Python 3"
    },
    "language_info": {
      "name": "python"
    }
  },
  "cells": [
    {
      "cell_type": "markdown",
      "metadata": {
        "id": "view-in-github",
        "colab_type": "text"
      },
      "source": [
        "<a href=\"https://colab.research.google.com/github/Jasper-Sergio-Jasperyuu/58009-DSAA/blob/main/Prelim_Exam.ipynb\" target=\"_parent\"><img src=\"https://colab.research.google.com/assets/colab-badge.svg\" alt=\"Open In Colab\"/></a>"
      ]
    },
    {
      "cell_type": "markdown",
      "source": [
        "Adding scores"
      ],
      "metadata": {
        "id": "drkb0C2f_LIg"
      }
    },
    {
      "cell_type": "code",
      "execution_count": 12,
      "metadata": {
        "colab": {
          "base_uri": "https://localhost:8080/"
        },
        "id": "pInNVK-29qAL",
        "outputId": "909a3295-bdb0-4019-cb4e-11bd1fa8b373"
      },
      "outputs": [
        {
          "output_type": "stream",
          "name": "stdout",
          "text": [
            "397\n"
          ]
        }
      ],
      "source": [
        "score = [26, 49, 98, 87, 62, 75]\n",
        "c = 0\n",
        "for i in score:\n",
        "  c += i\n",
        "print(c)"
      ]
    },
    {
      "cell_type": "markdown",
      "source": [
        "Sorting Scores"
      ],
      "metadata": {
        "id": "E2edMpsW_OfP"
      }
    },
    {
      "cell_type": "code",
      "source": [
        "score = [26, 49, 98, 87, 62, 75]\n",
        "print(score)\n",
        "score.sort()\n",
        "print(\"Sorted Scores:\", score)"
      ],
      "metadata": {
        "colab": {
          "base_uri": "https://localhost:8080/"
        },
        "id": "V5jqNNSc_RAf",
        "outputId": "73a05e00-2955-492f-b2d6-97cdbce6fbb9"
      },
      "execution_count": 17,
      "outputs": [
        {
          "output_type": "stream",
          "name": "stdout",
          "text": [
            "[26, 49, 98, 87, 62, 75]\n",
            "Sorted Scores: [26, 49, 62, 75, 87, 98]\n"
          ]
        }
      ]
    }
  ]
}