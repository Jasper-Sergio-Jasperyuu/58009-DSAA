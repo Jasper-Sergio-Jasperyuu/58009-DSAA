{
  "nbformat": 4,
  "nbformat_minor": 0,
  "metadata": {
    "colab": {
      "provenance": [],
      "authorship_tag": "ABX9TyOf5rTg983e5aqsmwc3O8I3",
      "include_colab_link": true
    },
    "kernelspec": {
      "name": "python3",
      "display_name": "Python 3"
    },
    "language_info": {
      "name": "python"
    }
  },
  "cells": [
    {
      "cell_type": "markdown",
      "metadata": {
        "id": "view-in-github",
        "colab_type": "text"
      },
      "source": [
        "<a href=\"https://colab.research.google.com/github/Jasper-Sergio-Jasperyuu/58009-DSAA/blob/main/Activity2.ipynb\" target=\"_parent\"><img src=\"https://colab.research.google.com/assets/colab-badge.svg\" alt=\"Open In Colab\"/></a>"
      ]
    },
    {
      "cell_type": "code",
      "execution_count": 45,
      "metadata": {
        "colab": {
          "base_uri": "https://localhost:8080/"
        },
        "id": "XfAGRBI7X5LA",
        "outputId": "e83b153a-0e9b-4b94-ae0e-d155d1cd24ab"
      },
      "outputs": [
        {
          "output_type": "stream",
          "name": "stdout",
          "text": [
            "2\n",
            "3\n",
            "5\n",
            "7\n",
            "11\n",
            "13\n",
            "17\n",
            "19\n",
            "Head: 2\n",
            "Tail: 19\n"
          ]
        }
      ],
      "source": [
        "\n",
        "prime = []\n",
        "for n in range ( 2, 20 + 1 ):\n",
        "  for i in range ( 2, n ):\n",
        "    if ( n % i == 0 ):\n",
        "      break\n",
        "  else:\n",
        "    prime.append(n)\n",
        "class Node:\n",
        "\n",
        "  def __init__(self, data):\n",
        "    self.data = data\n",
        "    self.next = None\n",
        "\n",
        "class Llist:\n",
        "\n",
        "  def __init__(self):\n",
        "    self.head = None\n",
        "    self.tail = None\n",
        "  def printlist(self):\n",
        "    temp = self.head\n",
        "    while(temp):\n",
        "      print(temp.data)\n",
        "      temp = temp.next\n",
        "    print(\"Head:\", self.head.data)\n",
        "    print(\"Tail:\", self.tail.data)\n",
        "\n",
        "if __name__=='__main__':\n",
        "\n",
        "  a = Llist()\n",
        "  a.head = Node(prime[0])\n",
        "\n",
        "  for i in range(0,8):\n",
        "    prime[i] = Node(prime[i])\n",
        "\n",
        "  a.head.next = prime[1];\n",
        "\n",
        "  for i in range(1, 7):\n",
        "    prime[i].next = prime[i+1];\n",
        "\n",
        "  a.tail = prime[-1]\n",
        "a.printlist()\n"
      ]
    }
  ]
}