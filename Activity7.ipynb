{
  "nbformat": 4,
  "nbformat_minor": 0,
  "metadata": {
    "colab": {
      "provenance": [],
      "authorship_tag": "ABX9TyPYp6nUhFnZ8Mu0xMLPvp8h",
      "include_colab_link": true
    },
    "kernelspec": {
      "name": "python3",
      "display_name": "Python 3"
    },
    "language_info": {
      "name": "python"
    }
  },
  "cells": [
    {
      "cell_type": "markdown",
      "metadata": {
        "id": "view-in-github",
        "colab_type": "text"
      },
      "source": [
        "<a href=\"https://colab.research.google.com/github/Jasper-Sergio-Jasperyuu/58009-DSAA/blob/main/Graph.ipynb\" target=\"_parent\"><img src=\"https://colab.research.google.com/assets/colab-badge.svg\" alt=\"Open In Colab\"/></a>"
      ]
    },
    {
      "cell_type": "code",
      "execution_count": 6,
      "metadata": {
        "colab": {
          "base_uri": "https://localhost:8080/"
        },
        "id": "S2vNivfbL6Zh",
        "outputId": "da90b6b2-e7a4-41d3-c2d0-29df6beddf68"
      },
      "outputs": [
        {
          "output_type": "stream",
          "name": "stdout",
          "text": [
            "[{'2', '1'}, {'3', '1'}, {'5', '1'}, {'6', '1'}, {'2', '3'}, {'2', '4'}, {'2', '5'}, {'2', '6'}, {'4', '3'}, {'5', '3'}]\n"
          ]
        }
      ],
      "source": [
        "#Display Graph Edges\n",
        "\n",
        "class graph:\n",
        "   def __init__(self,gdict=None):\n",
        "      if gdict is None:\n",
        "         gdict = {}\n",
        "      self.gdict = gdict\n",
        "\n",
        "   def edges(self):\n",
        "      return self.findedges()\n",
        "# Find the distinct list of edges\n",
        "   def findedges(self):\n",
        "      edgename = []\n",
        "      for vrtx in self.gdict:\n",
        "         for nxtvrtx in self.gdict[vrtx]:\n",
        "            if {nxtvrtx, vrtx} not in edgename:\n",
        "               edgename.append({vrtx, nxtvrtx})\n",
        "      return edgename\n",
        "# Create the dictionary with graph elements\n",
        "graph_elements = {\n",
        "   \"1\" : [\"2\", \"3\", \"5\", \"6\"],\n",
        "   \"2\" : [\"1\", \"3\", \"4\", \"5\", '6'],\n",
        "   \"3\" : [\"1\", \"2\", \"4\", \"5\"],\n",
        "   \"4\" : [\"2\", \"3\"],\n",
        "   \"5\" : [\"1\", \"2\", \"3\"],\n",
        "   \"6\" : [\"1\",'2']\n",
        "}\n",
        "g = graph(graph_elements)\n",
        "print(g.edges())"
      ]
    },
    {
      "cell_type": "code",
      "source": [
        "#Display Graph Vertices\n",
        "\n",
        "class graph:\n",
        "   def __init__(self,gdict=None):\n",
        "      if gdict is None:\n",
        "         gdict = []\n",
        "      self.gdict = gdict\n",
        "# Get the keys of the dictionary\n",
        "   def getVertices(self):\n",
        "      return list(self.gdict.keys())\n",
        "# Create the dictionary with graph elements\n",
        "graph_elements = {\n",
        "   \"1\" : [\"2\", \"3\", \"5\", \"6\"],\n",
        "   \"2\" : [\"1\", \"3\", \"4\", \"5\", '6'],\n",
        "   \"3\" : [\"1\", \"2\", \"4\", \"5\"],\n",
        "   \"4\" : [\"2\", \"3\"],\n",
        "   \"5\" : [\"1\", \"2\", \"3\"],\n",
        "   \"6\" : [\"1\",'2']\n",
        "}\n",
        "g = graph(graph_elements)\n",
        "print(g.getVertices())"
      ],
      "metadata": {
        "colab": {
          "base_uri": "https://localhost:8080/"
        },
        "id": "rg9K8avROHHK",
        "outputId": "b4105e0f-4cdd-4514-a803-f0b2c5ed3c44"
      },
      "execution_count": 7,
      "outputs": [
        {
          "output_type": "stream",
          "name": "stdout",
          "text": [
            "['1', '2', '3', '4', '5', '6']\n"
          ]
        }
      ]
    }
  ]
}
