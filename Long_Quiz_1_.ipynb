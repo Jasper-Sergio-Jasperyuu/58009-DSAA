{
  "nbformat": 4,
  "nbformat_minor": 0,
  "metadata": {
    "colab": {
      "provenance": [],
      "authorship_tag": "ABX9TyNrpi+Bm8a3Pp+vXN3wB4yt",
      "include_colab_link": true
    },
    "kernelspec": {
      "name": "python3",
      "display_name": "Python 3"
    },
    "language_info": {
      "name": "python"
    }
  },
  "cells": [
    {
      "cell_type": "markdown",
      "metadata": {
        "id": "view-in-github",
        "colab_type": "text"
      },
      "source": [
        "<a href=\"https://colab.research.google.com/github/Jasper-Sergio-Jasperyuu/58009-DSAA/blob/main/Long_Quiz_1_.ipynb\" target=\"_parent\"><img src=\"https://colab.research.google.com/assets/colab-badge.svg\" alt=\"Open In Colab\"/></a>"
      ]
    },
    {
      "cell_type": "markdown",
      "source": [
        "Number 1"
      ],
      "metadata": {
        "id": "YjWMmYsa9dhF"
      }
    },
    {
      "cell_type": "code",
      "execution_count": 32,
      "metadata": {
        "colab": {
          "base_uri": "https://localhost:8080/"
        },
        "id": "UQdhETLb6BOC",
        "outputId": "3d487742-dc4c-4c00-f792-fa83438f2ba7"
      },
      "outputs": [
        {
          "output_type": "stream",
          "name": "stdout",
          "text": [
            "Please input your name: Jasper D. Sergio\n",
            "['J', 'a', 's', 'p', 'e', 'r', ' ', 'D', '.', ' ', 'S', 'e', 'r', 'g', 'i', 'o']\n",
            "Reversed Name: oigreS .D repsaJ"
          ]
        }
      ],
      "source": [
        "a = input(str(\"Please input your name: \"))\n",
        "name = list(a.strip(\"\")) #using strip in python to turn name into specific characters\n",
        "print(name)\n",
        "name.reverse()\n",
        "x = 0\n",
        "print(\"Reversed Name:\", end = \" \")\n",
        "while name:\n",
        "  print(name[x], end = \"\")\n",
        "  x += 1\n",
        "  if x == len(name):\n",
        "    break"
      ]
    },
    {
      "cell_type": "markdown",
      "source": [
        "Number 2"
      ],
      "metadata": {
        "id": "zkHKE0JX9fas"
      }
    },
    {
      "cell_type": "code",
      "source": [
        "composite = []\n",
        "prime = []\n",
        "numbers = [2,3,4,5,6,7,8,9,10]\n",
        "n = 1\n",
        "while numbers:\n",
        "  n +=1\n",
        "  for i in range ( 2, n ):\n",
        "    if ( n % i == 0 ):\n",
        "      composite.append(n)\n",
        "      break\n",
        "  else:\n",
        "    prime.append(n)\n",
        "  if n == len(numbers) + 1:\n",
        "      break\n",
        "print('Composite numbers are listed as: ', end='')\n",
        "for i in composite:\n",
        "  print(i, end = ' ')\n",
        "print('\\nPrime numbers are listed as: ',end ='')\n",
        "for i in prime:\n",
        "  print(i, end = ' ')"
      ],
      "metadata": {
        "colab": {
          "base_uri": "https://localhost:8080/"
        },
        "id": "ltOQu2Dz9chU",
        "outputId": "41b233d2-d63e-4d73-d884-3657aaad652e"
      },
      "execution_count": 41,
      "outputs": [
        {
          "output_type": "stream",
          "name": "stdout",
          "text": [
            "Composite numbers are listed as: 4 6 8 9 10 \n",
            "Prime numbers are listed as: 2 3 5 7 "
          ]
        }
      ]
    }
  ]
}